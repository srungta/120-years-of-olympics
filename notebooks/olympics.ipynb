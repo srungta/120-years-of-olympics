{
 "cells": [
  {
   "cell_type": "markdown",
   "metadata": {},
   "source": [
    "### Olympics 120 years analysis."
   ]
  },
  {
   "cell_type": "markdown",
   "metadata": {},
   "source": [
    "The dataset has a pretty interesting and comprehensive analysis at [this link](https://www.kaggle.com/heesoo37/olympic-history-data-a-thorough-analysis/notebook) created by the aggregator of the dataset.  \n",
    "It covers most of what you would expect from a dataset link. Below is a list of the things covered in that kernel for quick reference."
   ]
  },
  {
   "cell_type": "markdown",
   "metadata": {},
   "source": [
    "```\n",
    "3 More athletes, nations, and events\n",
    "3.1 Has the number of athletes, nations, and events changed over time?\n",
    "4 The Art Competitions\n",
    "4.1 Numer of events, nations, and artists over time\n",
    "4.2 Which countries won the most art medals?\n",
    "4.3 Nazis crush the 1936 Art Competitions\n",
    "5 Women in the Olympics\n",
    "5.1 Number of men and women over time\n",
    "5.2 Number of women relative to men across countries\n",
    "5.3 Proportion of women on Olympic teams: 1936\n",
    "5.4 Medal counts for women of different nations: 1936\n",
    "5.5 Proportion of women on Olympic teams: 1976\n",
    "5.6 Medal counts for women of different nations: 1976\n",
    "5.7 Proportion of women on Olympic teams: 2016\n",
    "5.8 Medal counts for women of different nations: 2016\n",
    "6 Geographic representation\n",
    "6.1 Amsterdam 1928\n",
    "6.2 Munich 1972\n",
    "6.3 Rio 2016\n",
    "7 Height and weight of athletes\n",
    "7.1 Data completeness\n",
    "7.2 Athlete height over time\n",
    "7.3 Athlete weight over time\n",
    "7.4 Change in height vs change in weight over time across men’s sports\n",
    "7.5 Change in height vs change in weight over time across women’s sports\n",
    "8 Summary of key findings\n",
    "```"
   ]
  },
  {
   "cell_type": "markdown",
   "metadata": {},
   "source": [
    "Lets try to find answers to some of the more out of place questions.  \n",
    "\n",
    "\n",
    "**1. What was going on during the World Wars?**  \n",
    "*Were there countries participating in Olympics despite being a part of the war? If so, how? Did the participation change as the wars progressed?*\n",
    "\n",
    "**2. How did the Great Depression affect the World games?**  \n",
    "*When there is no money to burn, do you still come out and play?*\n",
    "\n",
    "**3. Does the host country's climate have something to do with the medal tally?**  \n",
    "*I can't ski in this climate. It is just not cold enough.*  \n",
    "\n",
    "**4. Was hosting the olympics a good investment for the host nations?**  \n",
    "*Olympics will bring visitors who bring money, right? Right?*\n",
    "\n",
    "**5. Why are Summer Olympics more popular that the Winter ones? (Or are they really?)**  \n",
    "*All olympics were made equal in the eyes of **The Association**. Sure?*\n",
    "\n",
    "**6. Do the same athletes compete in both Summer and Winter versions?**  \n",
    "*But coach, I just came back from the other one.*\n",
    "\n",
    "\n",
    "**7. Is the country wise medal tally different for similar sports among the two versions?**  \n",
    "*You know m'te, we don' have such sports in the grin'.*\n",
    "\n",
    "\n",
    "**8. Do olympics athletes have something in common?**  \n",
    "*Athleticism? Duh!*\n",
    "\n",
    "**9. Is right to vote a pre cursor to olympics participation? **  \n",
    "*You can go out and play but voting is a no no.*"
   ]
  },
  {
   "cell_type": "code",
   "execution_count": 1,
   "metadata": {},
   "outputs": [],
   "source": [
    "import pandas as pd"
   ]
  },
  {
   "cell_type": "code",
   "execution_count": 5,
   "metadata": {},
   "outputs": [],
   "source": [
    "ATHELETES_DATA_FILE = '..\\\\data\\\\athlete_events.csv'\n",
    "COUNTRY_DATA_FILE = '..\\\\data\\\\noc_regions.csv'"
   ]
  },
  {
   "cell_type": "code",
   "execution_count": 6,
   "metadata": {},
   "outputs": [],
   "source": [
    "athletes = pd.read_csv(ATHELETES_DATA_FILE)\n",
    "countries = pd.read_csv(COUNTRY_DATA_FILE)"
   ]
  },
  {
   "cell_type": "code",
   "execution_count": 13,
   "metadata": {},
   "outputs": [
    {
     "data": {
      "text/plain": [
       "ID        271116\n",
       "Name      271116\n",
       "Sex       271116\n",
       "Age       261642\n",
       "Height    210945\n",
       "Weight    208241\n",
       "Team      271116\n",
       "NOC       271116\n",
       "Games     271116\n",
       "Year      271116\n",
       "Season    271116\n",
       "City      271116\n",
       "Sport     271116\n",
       "Event     271116\n",
       "Medal      39783\n",
       "dtype: int64"
      ]
     },
     "execution_count": 13,
     "metadata": {},
     "output_type": "execute_result"
    }
   ],
   "source": [
    "athletes.count()"
   ]
  },
  {
   "cell_type": "code",
   "execution_count": 15,
   "metadata": {
    "collapsed": true
   },
   "outputs": [
    {
     "name": "stdout",
     "output_type": "stream",
     "text": [
      "ID            0\n",
      "Name          0\n",
      "Sex           0\n",
      "Age        9474\n",
      "Height    60171\n",
      "Weight    62875\n",
      "Team          0\n",
      "NOC           0\n",
      "Games         0\n",
      "Year          0\n",
      "Season        0\n",
      "City          0\n",
      "Sport         0\n",
      "Event         0\n",
      "Medal         0\n",
      "dtype: int64\n"
     ]
    }
   ],
   "source": [
    "print(athletes.isnull().sum())"
   ]
  },
  {
   "cell_type": "code",
   "execution_count": 16,
   "metadata": {},
   "outputs": [],
   "source": [
    "athletes['Medal'].fillna('DNW', inplace=True)"
   ]
  },
  {
   "cell_type": "markdown",
   "metadata": {},
   "source": [
    "# What was going on during the World Wars?"
   ]
  },
  {
   "cell_type": "code",
   "execution_count": null,
   "metadata": {},
   "outputs": [],
   "source": []
  }
 ],
 "metadata": {
  "kernelspec": {
   "display_name": "Python 3",
   "language": "python",
   "name": "python3"
  },
  "language_info": {
   "codemirror_mode": {
    "name": "ipython",
    "version": 3
   },
   "file_extension": ".py",
   "mimetype": "text/x-python",
   "name": "python",
   "nbconvert_exporter": "python",
   "pygments_lexer": "ipython3",
   "version": "3.6.5"
  }
 },
 "nbformat": 4,
 "nbformat_minor": 2
}
